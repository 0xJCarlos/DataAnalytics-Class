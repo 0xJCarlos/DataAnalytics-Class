{
  "nbformat": 4,
  "nbformat_minor": 0,
  "metadata": {
    "colab": {
      "provenance": [],
      "authorship_tag": "ABX9TyM6l8F0fofH0PMfLcfauhfF",
      "include_colab_link": true
    },
    "kernelspec": {
      "name": "python3",
      "display_name": "Python 3"
    },
    "language_info": {
      "name": "python"
    }
  },
  "cells": [
    {
      "cell_type": "markdown",
      "metadata": {
        "id": "view-in-github",
        "colab_type": "text"
      },
      "source": [
        "<a href=\"https://colab.research.google.com/github/0xJCarlos/DataAnalytics-Class/blob/main/Actividad20.ipynb\" target=\"_parent\"><img src=\"https://colab.research.google.com/assets/colab-badge.svg\" alt=\"Open In Colab\"/></a>"
      ]
    },
    {
      "cell_type": "markdown",
      "source": [
        "##Actividad 20 Analítica de Datos 2024-A\n",
        "###Limpieza de Datos\n",
        "####Juan Carlos Solórzano Castanedo\n",
        "*   Correo electrónico: juan.scastanedo@alumnos.udg.mx\n",
        "*  Código de alumno: 220277645\n",
        "*   Fecha: 23 de Abril del 2024\n",
        "\n",
        "\n",
        "\n"
      ],
      "metadata": {
        "id": "S922PCZaCJc0"
      }
    },
    {
      "cell_type": "markdown",
      "source": [
        "###Contenido\n",
        "\n",
        "\n",
        "1.   Planteamiento del problema (qué hacer)\n",
        "2.   Planteamiento de la solución (cómo se hizo)\n",
        "3.   Ejemplo de ejecución (código)\n",
        "4.   Conclusiones\n",
        "5.   Referencias\n",
        "\n"
      ],
      "metadata": {
        "id": "xl1lFd7VDFf_"
      }
    },
    {
      "cell_type": "markdown",
      "source": [
        "##1. Planteamiento del problema 1 sales_record.csv\n",
        "\n",
        "####El dataset \"sales_record.csv\" se procede a cargar, se inspecciona, se limpia, se guarda un set de datos nuevos, se cargan los datos nuevos y se grafican con seaborn"
      ],
      "metadata": {
        "id": "DqfwmvKNDUko"
      }
    },
    {
      "cell_type": "markdown",
      "source": [
        "##2. Planteamiento de la solución\n",
        "\n",
        "####Solución:\n",
        "Se revisan los contenidos del dataset usando df.head y su estructura con df.info(), df.describe(), revisamos los tipos de datos con df.dtypes() y revisamos la cantidad de datos nulos con df.insull().sum()\n",
        "\n",
        "Posteriormente convertimos los datos que contienen fechas al tipo de dato correcto con pd.to_datetime()\n",
        "\n",
        "Después guardamos el dataset con los tipos de datos corregidos en un nuevo archivo, para después volver a abrirlo y visualizarlo con una gráfica de Seaborn"
      ],
      "metadata": {
        "id": "bnX5QBgHD5LE"
      }
    },
    {
      "cell_type": "markdown",
      "source": [
        "##Carga del Dataset"
      ],
      "metadata": {
        "id": "RzrnLAkQEHJb"
      }
    },
    {
      "cell_type": "code",
      "execution_count": 15,
      "metadata": {
        "colab": {
          "base_uri": "https://localhost:8080/",
          "height": 276
        },
        "id": "FnFc3KYR_NTD",
        "outputId": "a9bd59b6-60c6-4646-e2f7-883ca6d8fccf"
      },
      "outputs": [
        {
          "output_type": "execute_result",
          "data": {
            "text/plain": [
              "                              Region              Country  Item Type  \\\n",
              "0  Central America and the Caribbean  Antigua and Barbuda  Baby Food   \n",
              "1  Central America and the Caribbean               Panama     Snacks   \n",
              "2                             Europe       Czech Republic  Beverages   \n",
              "3                               Asia          North Korea     Cereal   \n",
              "4                               Asia            Sri Lanka     Snacks   \n",
              "\n",
              "  Sales Channel Order Priority  Order Date   Order ID  Ship Date  Units Sold  \\\n",
              "0        Online              M  12/20/2013  957081544   01/11/14         552   \n",
              "1       Offline              C    07/05/10  301644504  7/26/2010        2167   \n",
              "2       Offline              C    09/12/11  478051030  9/29/2011        4778   \n",
              "3       Offline              L   5/13/2010  892599952  6/15/2010        9016   \n",
              "4       Offline              C   7/20/2015  571902596  7/27/2015        7542   \n",
              "\n",
              "   Unit Price  Unit Cost  Total Revenue  Total Cost  Total Profit  \n",
              "0      255.28     159.42      140914.56    87999.84      52914.72  \n",
              "1      152.58      97.44      330640.86   211152.48     119488.38  \n",
              "2       47.45      31.79      226716.10   151892.62      74823.48  \n",
              "3      205.70     117.11     1854591.20  1055863.76     798727.44  \n",
              "4      152.58      97.44     1150758.36   734892.48     415865.88  "
            ],
            "text/html": [
              "\n",
              "  <div id=\"df-46d69294-bb30-47ee-a072-2ebba7a22ab3\" class=\"colab-df-container\">\n",
              "    <div>\n",
              "<style scoped>\n",
              "    .dataframe tbody tr th:only-of-type {\n",
              "        vertical-align: middle;\n",
              "    }\n",
              "\n",
              "    .dataframe tbody tr th {\n",
              "        vertical-align: top;\n",
              "    }\n",
              "\n",
              "    .dataframe thead th {\n",
              "        text-align: right;\n",
              "    }\n",
              "</style>\n",
              "<table border=\"1\" class=\"dataframe\">\n",
              "  <thead>\n",
              "    <tr style=\"text-align: right;\">\n",
              "      <th></th>\n",
              "      <th>Region</th>\n",
              "      <th>Country</th>\n",
              "      <th>Item Type</th>\n",
              "      <th>Sales Channel</th>\n",
              "      <th>Order Priority</th>\n",
              "      <th>Order Date</th>\n",
              "      <th>Order ID</th>\n",
              "      <th>Ship Date</th>\n",
              "      <th>Units Sold</th>\n",
              "      <th>Unit Price</th>\n",
              "      <th>Unit Cost</th>\n",
              "      <th>Total Revenue</th>\n",
              "      <th>Total Cost</th>\n",
              "      <th>Total Profit</th>\n",
              "    </tr>\n",
              "  </thead>\n",
              "  <tbody>\n",
              "    <tr>\n",
              "      <th>0</th>\n",
              "      <td>Central America and the Caribbean</td>\n",
              "      <td>Antigua and Barbuda</td>\n",
              "      <td>Baby Food</td>\n",
              "      <td>Online</td>\n",
              "      <td>M</td>\n",
              "      <td>12/20/2013</td>\n",
              "      <td>957081544</td>\n",
              "      <td>01/11/14</td>\n",
              "      <td>552</td>\n",
              "      <td>255.28</td>\n",
              "      <td>159.42</td>\n",
              "      <td>140914.56</td>\n",
              "      <td>87999.84</td>\n",
              "      <td>52914.72</td>\n",
              "    </tr>\n",
              "    <tr>\n",
              "      <th>1</th>\n",
              "      <td>Central America and the Caribbean</td>\n",
              "      <td>Panama</td>\n",
              "      <td>Snacks</td>\n",
              "      <td>Offline</td>\n",
              "      <td>C</td>\n",
              "      <td>07/05/10</td>\n",
              "      <td>301644504</td>\n",
              "      <td>7/26/2010</td>\n",
              "      <td>2167</td>\n",
              "      <td>152.58</td>\n",
              "      <td>97.44</td>\n",
              "      <td>330640.86</td>\n",
              "      <td>211152.48</td>\n",
              "      <td>119488.38</td>\n",
              "    </tr>\n",
              "    <tr>\n",
              "      <th>2</th>\n",
              "      <td>Europe</td>\n",
              "      <td>Czech Republic</td>\n",
              "      <td>Beverages</td>\n",
              "      <td>Offline</td>\n",
              "      <td>C</td>\n",
              "      <td>09/12/11</td>\n",
              "      <td>478051030</td>\n",
              "      <td>9/29/2011</td>\n",
              "      <td>4778</td>\n",
              "      <td>47.45</td>\n",
              "      <td>31.79</td>\n",
              "      <td>226716.10</td>\n",
              "      <td>151892.62</td>\n",
              "      <td>74823.48</td>\n",
              "    </tr>\n",
              "    <tr>\n",
              "      <th>3</th>\n",
              "      <td>Asia</td>\n",
              "      <td>North Korea</td>\n",
              "      <td>Cereal</td>\n",
              "      <td>Offline</td>\n",
              "      <td>L</td>\n",
              "      <td>5/13/2010</td>\n",
              "      <td>892599952</td>\n",
              "      <td>6/15/2010</td>\n",
              "      <td>9016</td>\n",
              "      <td>205.70</td>\n",
              "      <td>117.11</td>\n",
              "      <td>1854591.20</td>\n",
              "      <td>1055863.76</td>\n",
              "      <td>798727.44</td>\n",
              "    </tr>\n",
              "    <tr>\n",
              "      <th>4</th>\n",
              "      <td>Asia</td>\n",
              "      <td>Sri Lanka</td>\n",
              "      <td>Snacks</td>\n",
              "      <td>Offline</td>\n",
              "      <td>C</td>\n",
              "      <td>7/20/2015</td>\n",
              "      <td>571902596</td>\n",
              "      <td>7/27/2015</td>\n",
              "      <td>7542</td>\n",
              "      <td>152.58</td>\n",
              "      <td>97.44</td>\n",
              "      <td>1150758.36</td>\n",
              "      <td>734892.48</td>\n",
              "      <td>415865.88</td>\n",
              "    </tr>\n",
              "  </tbody>\n",
              "</table>\n",
              "</div>\n",
              "    <div class=\"colab-df-buttons\">\n",
              "\n",
              "  <div class=\"colab-df-container\">\n",
              "    <button class=\"colab-df-convert\" onclick=\"convertToInteractive('df-46d69294-bb30-47ee-a072-2ebba7a22ab3')\"\n",
              "            title=\"Convert this dataframe to an interactive table.\"\n",
              "            style=\"display:none;\">\n",
              "\n",
              "  <svg xmlns=\"http://www.w3.org/2000/svg\" height=\"24px\" viewBox=\"0 -960 960 960\">\n",
              "    <path d=\"M120-120v-720h720v720H120Zm60-500h600v-160H180v160Zm220 220h160v-160H400v160Zm0 220h160v-160H400v160ZM180-400h160v-160H180v160Zm440 0h160v-160H620v160ZM180-180h160v-160H180v160Zm440 0h160v-160H620v160Z\"/>\n",
              "  </svg>\n",
              "    </button>\n",
              "\n",
              "  <style>\n",
              "    .colab-df-container {\n",
              "      display:flex;\n",
              "      gap: 12px;\n",
              "    }\n",
              "\n",
              "    .colab-df-convert {\n",
              "      background-color: #E8F0FE;\n",
              "      border: none;\n",
              "      border-radius: 50%;\n",
              "      cursor: pointer;\n",
              "      display: none;\n",
              "      fill: #1967D2;\n",
              "      height: 32px;\n",
              "      padding: 0 0 0 0;\n",
              "      width: 32px;\n",
              "    }\n",
              "\n",
              "    .colab-df-convert:hover {\n",
              "      background-color: #E2EBFA;\n",
              "      box-shadow: 0px 1px 2px rgba(60, 64, 67, 0.3), 0px 1px 3px 1px rgba(60, 64, 67, 0.15);\n",
              "      fill: #174EA6;\n",
              "    }\n",
              "\n",
              "    .colab-df-buttons div {\n",
              "      margin-bottom: 4px;\n",
              "    }\n",
              "\n",
              "    [theme=dark] .colab-df-convert {\n",
              "      background-color: #3B4455;\n",
              "      fill: #D2E3FC;\n",
              "    }\n",
              "\n",
              "    [theme=dark] .colab-df-convert:hover {\n",
              "      background-color: #434B5C;\n",
              "      box-shadow: 0px 1px 3px 1px rgba(0, 0, 0, 0.15);\n",
              "      filter: drop-shadow(0px 1px 2px rgba(0, 0, 0, 0.3));\n",
              "      fill: #FFFFFF;\n",
              "    }\n",
              "  </style>\n",
              "\n",
              "    <script>\n",
              "      const buttonEl =\n",
              "        document.querySelector('#df-46d69294-bb30-47ee-a072-2ebba7a22ab3 button.colab-df-convert');\n",
              "      buttonEl.style.display =\n",
              "        google.colab.kernel.accessAllowed ? 'block' : 'none';\n",
              "\n",
              "      async function convertToInteractive(key) {\n",
              "        const element = document.querySelector('#df-46d69294-bb30-47ee-a072-2ebba7a22ab3');\n",
              "        const dataTable =\n",
              "          await google.colab.kernel.invokeFunction('convertToInteractive',\n",
              "                                                    [key], {});\n",
              "        if (!dataTable) return;\n",
              "\n",
              "        const docLinkHtml = 'Like what you see? Visit the ' +\n",
              "          '<a target=\"_blank\" href=https://colab.research.google.com/notebooks/data_table.ipynb>data table notebook</a>'\n",
              "          + ' to learn more about interactive tables.';\n",
              "        element.innerHTML = '';\n",
              "        dataTable['output_type'] = 'display_data';\n",
              "        await google.colab.output.renderOutput(dataTable, element);\n",
              "        const docLink = document.createElement('div');\n",
              "        docLink.innerHTML = docLinkHtml;\n",
              "        element.appendChild(docLink);\n",
              "      }\n",
              "    </script>\n",
              "  </div>\n",
              "\n",
              "\n",
              "<div id=\"df-436e3d0c-803f-4f1c-8cdc-d8923954375e\">\n",
              "  <button class=\"colab-df-quickchart\" onclick=\"quickchart('df-436e3d0c-803f-4f1c-8cdc-d8923954375e')\"\n",
              "            title=\"Suggest charts\"\n",
              "            style=\"display:none;\">\n",
              "\n",
              "<svg xmlns=\"http://www.w3.org/2000/svg\" height=\"24px\"viewBox=\"0 0 24 24\"\n",
              "     width=\"24px\">\n",
              "    <g>\n",
              "        <path d=\"M19 3H5c-1.1 0-2 .9-2 2v14c0 1.1.9 2 2 2h14c1.1 0 2-.9 2-2V5c0-1.1-.9-2-2-2zM9 17H7v-7h2v7zm4 0h-2V7h2v10zm4 0h-2v-4h2v4z\"/>\n",
              "    </g>\n",
              "</svg>\n",
              "  </button>\n",
              "\n",
              "<style>\n",
              "  .colab-df-quickchart {\n",
              "      --bg-color: #E8F0FE;\n",
              "      --fill-color: #1967D2;\n",
              "      --hover-bg-color: #E2EBFA;\n",
              "      --hover-fill-color: #174EA6;\n",
              "      --disabled-fill-color: #AAA;\n",
              "      --disabled-bg-color: #DDD;\n",
              "  }\n",
              "\n",
              "  [theme=dark] .colab-df-quickchart {\n",
              "      --bg-color: #3B4455;\n",
              "      --fill-color: #D2E3FC;\n",
              "      --hover-bg-color: #434B5C;\n",
              "      --hover-fill-color: #FFFFFF;\n",
              "      --disabled-bg-color: #3B4455;\n",
              "      --disabled-fill-color: #666;\n",
              "  }\n",
              "\n",
              "  .colab-df-quickchart {\n",
              "    background-color: var(--bg-color);\n",
              "    border: none;\n",
              "    border-radius: 50%;\n",
              "    cursor: pointer;\n",
              "    display: none;\n",
              "    fill: var(--fill-color);\n",
              "    height: 32px;\n",
              "    padding: 0;\n",
              "    width: 32px;\n",
              "  }\n",
              "\n",
              "  .colab-df-quickchart:hover {\n",
              "    background-color: var(--hover-bg-color);\n",
              "    box-shadow: 0 1px 2px rgba(60, 64, 67, 0.3), 0 1px 3px 1px rgba(60, 64, 67, 0.15);\n",
              "    fill: var(--button-hover-fill-color);\n",
              "  }\n",
              "\n",
              "  .colab-df-quickchart-complete:disabled,\n",
              "  .colab-df-quickchart-complete:disabled:hover {\n",
              "    background-color: var(--disabled-bg-color);\n",
              "    fill: var(--disabled-fill-color);\n",
              "    box-shadow: none;\n",
              "  }\n",
              "\n",
              "  .colab-df-spinner {\n",
              "    border: 2px solid var(--fill-color);\n",
              "    border-color: transparent;\n",
              "    border-bottom-color: var(--fill-color);\n",
              "    animation:\n",
              "      spin 1s steps(1) infinite;\n",
              "  }\n",
              "\n",
              "  @keyframes spin {\n",
              "    0% {\n",
              "      border-color: transparent;\n",
              "      border-bottom-color: var(--fill-color);\n",
              "      border-left-color: var(--fill-color);\n",
              "    }\n",
              "    20% {\n",
              "      border-color: transparent;\n",
              "      border-left-color: var(--fill-color);\n",
              "      border-top-color: var(--fill-color);\n",
              "    }\n",
              "    30% {\n",
              "      border-color: transparent;\n",
              "      border-left-color: var(--fill-color);\n",
              "      border-top-color: var(--fill-color);\n",
              "      border-right-color: var(--fill-color);\n",
              "    }\n",
              "    40% {\n",
              "      border-color: transparent;\n",
              "      border-right-color: var(--fill-color);\n",
              "      border-top-color: var(--fill-color);\n",
              "    }\n",
              "    60% {\n",
              "      border-color: transparent;\n",
              "      border-right-color: var(--fill-color);\n",
              "    }\n",
              "    80% {\n",
              "      border-color: transparent;\n",
              "      border-right-color: var(--fill-color);\n",
              "      border-bottom-color: var(--fill-color);\n",
              "    }\n",
              "    90% {\n",
              "      border-color: transparent;\n",
              "      border-bottom-color: var(--fill-color);\n",
              "    }\n",
              "  }\n",
              "</style>\n",
              "\n",
              "  <script>\n",
              "    async function quickchart(key) {\n",
              "      const quickchartButtonEl =\n",
              "        document.querySelector('#' + key + ' button');\n",
              "      quickchartButtonEl.disabled = true;  // To prevent multiple clicks.\n",
              "      quickchartButtonEl.classList.add('colab-df-spinner');\n",
              "      try {\n",
              "        const charts = await google.colab.kernel.invokeFunction(\n",
              "            'suggestCharts', [key], {});\n",
              "      } catch (error) {\n",
              "        console.error('Error during call to suggestCharts:', error);\n",
              "      }\n",
              "      quickchartButtonEl.classList.remove('colab-df-spinner');\n",
              "      quickchartButtonEl.classList.add('colab-df-quickchart-complete');\n",
              "    }\n",
              "    (() => {\n",
              "      let quickchartButtonEl =\n",
              "        document.querySelector('#df-436e3d0c-803f-4f1c-8cdc-d8923954375e button');\n",
              "      quickchartButtonEl.style.display =\n",
              "        google.colab.kernel.accessAllowed ? 'block' : 'none';\n",
              "    })();\n",
              "  </script>\n",
              "</div>\n",
              "    </div>\n",
              "  </div>\n"
            ],
            "application/vnd.google.colaboratory.intrinsic+json": {
              "type": "dataframe",
              "variable_name": "df",
              "summary": "{\n  \"name\": \"df\",\n  \"rows\": 5000,\n  \"fields\": [\n    {\n      \"column\": \"Region\",\n      \"properties\": {\n        \"dtype\": \"category\",\n        \"num_unique_values\": 7,\n        \"samples\": [\n          \"Central America and the Caribbean\",\n          \"Europe\",\n          \"Sub-Saharan Africa\"\n        ],\n        \"semantic_type\": \"\",\n        \"description\": \"\"\n      }\n    },\n    {\n      \"column\": \"Country\",\n      \"properties\": {\n        \"dtype\": \"category\",\n        \"num_unique_values\": 185,\n        \"samples\": [\n          \"Trinidad and Tobago\",\n          \"Taiwan\",\n          \"Nauru\"\n        ],\n        \"semantic_type\": \"\",\n        \"description\": \"\"\n      }\n    },\n    {\n      \"column\": \"Item Type\",\n      \"properties\": {\n        \"dtype\": \"category\",\n        \"num_unique_values\": 12,\n        \"samples\": [\n          \"Vegetables\",\n          \"Fruits\",\n          \"Baby Food\"\n        ],\n        \"semantic_type\": \"\",\n        \"description\": \"\"\n      }\n    },\n    {\n      \"column\": \"Sales Channel\",\n      \"properties\": {\n        \"dtype\": \"category\",\n        \"num_unique_values\": 2,\n        \"samples\": [\n          \"Offline\",\n          \"Online\"\n        ],\n        \"semantic_type\": \"\",\n        \"description\": \"\"\n      }\n    },\n    {\n      \"column\": \"Order Priority\",\n      \"properties\": {\n        \"dtype\": \"category\",\n        \"num_unique_values\": 4,\n        \"samples\": [\n          \"C\",\n          \"H\"\n        ],\n        \"semantic_type\": \"\",\n        \"description\": \"\"\n      }\n    },\n    {\n      \"column\": \"Order Date\",\n      \"properties\": {\n        \"dtype\": \"category\",\n        \"num_unique_values\": 2305,\n        \"samples\": [\n          \"1/15/2010\",\n          \"8/26/2013\"\n        ],\n        \"semantic_type\": \"\",\n        \"description\": \"\"\n      }\n    },\n    {\n      \"column\": \"Order ID\",\n      \"properties\": {\n        \"dtype\": \"number\",\n        \"std\": 259467108,\n        \"min\": 100090873,\n        \"max\": 999879729,\n        \"num_unique_values\": 5000,\n        \"samples\": [\n          804308497,\n          117929494\n        ],\n        \"semantic_type\": \"\",\n        \"description\": \"\"\n      }\n    },\n    {\n      \"column\": \"Ship Date\",\n      \"properties\": {\n        \"dtype\": \"object\",\n        \"num_unique_values\": 2320,\n        \"samples\": [\n          \"5/29/2017\",\n          \"10/03/14\"\n        ],\n        \"semantic_type\": \"\",\n        \"description\": \"\"\n      }\n    },\n    {\n      \"column\": \"Units Sold\",\n      \"properties\": {\n        \"dtype\": \"number\",\n        \"std\": 2914,\n        \"min\": 2,\n        \"max\": 9999,\n        \"num_unique_values\": 3944,\n        \"samples\": [\n          6072,\n          2155\n        ],\n        \"semantic_type\": \"\",\n        \"description\": \"\"\n      }\n    },\n    {\n      \"column\": \"Unit Price\",\n      \"properties\": {\n        \"dtype\": \"number\",\n        \"std\": 218.71669542898132,\n        \"min\": 9.33,\n        \"max\": 668.27,\n        \"num_unique_values\": 12,\n        \"samples\": [\n          154.06,\n          9.33\n        ],\n        \"semantic_type\": \"\",\n        \"description\": \"\"\n      }\n    },\n    {\n      \"column\": \"Unit Cost\",\n      \"properties\": {\n        \"dtype\": \"number\",\n        \"std\": 176.41627981970473,\n        \"min\": 6.92,\n        \"max\": 524.96,\n        \"num_unique_values\": 12,\n        \"samples\": [\n          90.93,\n          6.92\n        ],\n        \"semantic_type\": \"\",\n        \"description\": \"\"\n      }\n    },\n    {\n      \"column\": \"Total Revenue\",\n      \"properties\": {\n        \"dtype\": \"number\",\n        \"std\": 1475374.6733602812,\n        \"min\": 65.31,\n        \"max\": 6672675.95,\n        \"num_unique_values\": 4909,\n        \"samples\": [\n          35919.65,\n          288496.0\n        ],\n        \"semantic_type\": \"\",\n        \"description\": \"\"\n      }\n    },\n    {\n      \"column\": \"Total Cost\",\n      \"properties\": {\n        \"dtype\": \"number\",\n        \"std\": 1150873.2176060663,\n        \"min\": 48.44,\n        \"max\": 5248025.12,\n        \"num_unique_values\": 4908,\n        \"samples\": [\n          581568.26,\n          193283.2\n        ],\n        \"semantic_type\": \"\",\n        \"description\": \"\"\n      }\n    },\n    {\n      \"column\": \"Total Profit\",\n      \"properties\": {\n        \"dtype\": \"number\",\n        \"std\": 382935.148431907,\n        \"min\": 16.87,\n        \"max\": 1726007.49,\n        \"num_unique_values\": 4909,\n        \"samples\": [\n          11854.62,\n          95212.8\n        ],\n        \"semantic_type\": \"\",\n        \"description\": \"\"\n      }\n    }\n  ]\n}"
            }
          },
          "metadata": {},
          "execution_count": 15
        }
      ],
      "source": [
        "import pandas as pd\n",
        "import numpy as np\n",
        "\n",
        "df = pd.read_csv('sales_record.csv')\n",
        "df.head()"
      ]
    },
    {
      "cell_type": "markdown",
      "source": [
        "##Inspección Inicial"
      ],
      "metadata": {
        "id": "SF5-qlZyHLSt"
      }
    },
    {
      "cell_type": "code",
      "source": [
        "df.info()\n",
        "df.describe()\n",
        "df.isnull().sum()"
      ],
      "metadata": {
        "colab": {
          "base_uri": "https://localhost:8080/",
          "height": 0
        },
        "id": "fEEXiWH8EP3E",
        "outputId": "14de7e67-b6af-4b45-ff91-79183d6144d2"
      },
      "execution_count": 16,
      "outputs": [
        {
          "output_type": "stream",
          "name": "stdout",
          "text": [
            "<class 'pandas.core.frame.DataFrame'>\n",
            "RangeIndex: 5000 entries, 0 to 4999\n",
            "Data columns (total 14 columns):\n",
            " #   Column          Non-Null Count  Dtype  \n",
            "---  ------          --------------  -----  \n",
            " 0   Region          5000 non-null   object \n",
            " 1   Country         5000 non-null   object \n",
            " 2   Item Type       5000 non-null   object \n",
            " 3   Sales Channel   5000 non-null   object \n",
            " 4   Order Priority  5000 non-null   object \n",
            " 5   Order Date      5000 non-null   object \n",
            " 6   Order ID        5000 non-null   int64  \n",
            " 7   Ship Date       5000 non-null   object \n",
            " 8   Units Sold      5000 non-null   int64  \n",
            " 9   Unit Price      5000 non-null   float64\n",
            " 10  Unit Cost       5000 non-null   float64\n",
            " 11  Total Revenue   5000 non-null   float64\n",
            " 12  Total Cost      5000 non-null   float64\n",
            " 13  Total Profit    5000 non-null   float64\n",
            "dtypes: float64(5), int64(2), object(7)\n",
            "memory usage: 547.0+ KB\n"
          ]
        },
        {
          "output_type": "execute_result",
          "data": {
            "text/plain": [
              "Region            0\n",
              "Country           0\n",
              "Item Type         0\n",
              "Sales Channel     0\n",
              "Order Priority    0\n",
              "Order Date        0\n",
              "Order ID          0\n",
              "Ship Date         0\n",
              "Units Sold        0\n",
              "Unit Price        0\n",
              "Unit Cost         0\n",
              "Total Revenue     0\n",
              "Total Cost        0\n",
              "Total Profit      0\n",
              "dtype: int64"
            ]
          },
          "metadata": {},
          "execution_count": 16
        }
      ]
    },
    {
      "cell_type": "markdown",
      "source": [
        "##Limpieza de Datos"
      ],
      "metadata": {
        "id": "V4MgKRnaHoRH"
      }
    },
    {
      "cell_type": "code",
      "source": [
        "#Convertir las columnas de fecha\n",
        "df['Order Date'] = pd.to_datetime(df['Order Date'], errors='coerce')\n",
        "df['Ship Date'] = pd.to_datetime(df['Ship Date'], errors='coerce')\n",
        "\n",
        "#Verificacicón de la conversión\n",
        "df.dtypes"
      ],
      "metadata": {
        "colab": {
          "base_uri": "https://localhost:8080/",
          "height": 0
        },
        "id": "WHUb3mMGHRbK",
        "outputId": "d82d5c91-5ba1-408a-bddb-208c3ba12eb6"
      },
      "execution_count": 17,
      "outputs": [
        {
          "output_type": "stream",
          "name": "stderr",
          "text": [
            "<ipython-input-17-7e42553c1b10>:3: UserWarning: Could not infer format, so each element will be parsed individually, falling back to `dateutil`. To ensure parsing is consistent and as-expected, please specify a format.\n",
            "  df['Ship Date'] = pd.to_datetime(df['Ship Date'], errors='coerce')\n"
          ]
        },
        {
          "output_type": "execute_result",
          "data": {
            "text/plain": [
              "Region                    object\n",
              "Country                   object\n",
              "Item Type                 object\n",
              "Sales Channel             object\n",
              "Order Priority            object\n",
              "Order Date        datetime64[ns]\n",
              "Order ID                   int64\n",
              "Ship Date         datetime64[ns]\n",
              "Units Sold                 int64\n",
              "Unit Price               float64\n",
              "Unit Cost                float64\n",
              "Total Revenue            float64\n",
              "Total Cost               float64\n",
              "Total Profit             float64\n",
              "dtype: object"
            ]
          },
          "metadata": {},
          "execution_count": 17
        }
      ]
    },
    {
      "cell_type": "markdown",
      "source": [
        "##Guardado del Dataset Limpio"
      ],
      "metadata": {
        "id": "m_U1w2FjIMt4"
      }
    },
    {
      "cell_type": "code",
      "source": [
        "#Guardar el dataframe limpio en un nuevo archivo .CSV\n",
        "df.to_csv('sales_record_cleaned.csv', index=False)"
      ],
      "metadata": {
        "id": "cA1wypekH85Z"
      },
      "execution_count": 18,
      "outputs": []
    },
    {
      "cell_type": "markdown",
      "source": [
        "##Carga el nuevo dataset que se limpió"
      ],
      "metadata": {
        "id": "qvDOOjVsIbgW"
      }
    },
    {
      "cell_type": "code",
      "source": [
        "import pandas as pd\n",
        "import seaborn as sns\n",
        "import matplotlib.pyplot as plt\n",
        "\n",
        "#Carga del dataset limpio\n",
        "df = pd.read_csv('sales_record_cleaned.csv')"
      ],
      "metadata": {
        "id": "Uh1rXYhWIa8A"
      },
      "execution_count": 19,
      "outputs": []
    },
    {
      "cell_type": "markdown",
      "source": [
        "##Visualizamos los datos"
      ],
      "metadata": {
        "id": "wmscSrC4Ipco"
      }
    },
    {
      "cell_type": "code",
      "source": [
        "#Configuración del estilo de los gráficos\n",
        "sns.set(style=\"whitegrid\")\n",
        "\n",
        "#Creación de un gráfico de barras para visualizar el total de ganancias por región\n",
        "plt.figure(figsize=(10,6))\n",
        "sns.barplot(x='Total Profit', y='Region', data=df, estimator=sum, ci=None, color='lightblue')\n",
        "plt.title('Total de Ganancias por Región')\n",
        "plt.xlabel('Total de Ganancias')\n",
        "plt.ylabel('Región')\n",
        "plt.tight_layout()\n",
        "plt.show()"
      ],
      "metadata": {
        "colab": {
          "base_uri": "https://localhost:8080/",
          "height": 692
        },
        "id": "m_98Pq4pIn4q",
        "outputId": "d357add0-552b-48af-fbd9-38fc44fe2e02"
      },
      "execution_count": 20,
      "outputs": [
        {
          "output_type": "stream",
          "name": "stderr",
          "text": [
            "<ipython-input-20-d096a6f3fcfb>:6: FutureWarning: \n",
            "\n",
            "The `ci` parameter is deprecated. Use `errorbar=None` for the same effect.\n",
            "\n",
            "  sns.barplot(x='Total Profit', y='Region', data=df, estimator=sum, ci=None, color='lightblue')\n"
          ]
        },
        {
          "output_type": "display_data",
          "data": {
            "text/plain": [
              "<Figure size 1000x600 with 1 Axes>"
            ],
            "image/png": "[encoded data removed]"
          },
          "metadata": {}
        }
      ]
    },
    {
      "cell_type": "code",
      "source": [],
      "metadata": {
        "id": "nLxCrepNJbNX"
      },
      "execution_count": null,
      "outputs": []
    }
  ]
}